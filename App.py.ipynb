{
 "cells": [
  {
   "cell_type": "code",
   "execution_count": 1,
   "id": "572b33f9",
   "metadata": {},
   "outputs": [],
   "source": [
    "import streamlit as st"
   ]
  },
  {
   "cell_type": "code",
   "execution_count": 2,
   "id": "eddf5446",
   "metadata": {},
   "outputs": [],
   "source": [
    "from langchain.prompts import PromptTemplate"
   ]
  },
  {
   "cell_type": "code",
   "execution_count": 7,
   "id": "dea9c470",
   "metadata": {},
   "outputs": [
    {
     "name": "stdout",
     "output_type": "stream",
     "text": [
      "Collecting langchain_community\n",
      "  Obtaining dependency information for langchain_community from https://files.pythonhosted.org/packages/c1/94/37a1cf33bbb4285b1835b216572e8eb32da9c65d92ff4244b5df86e3a8cc/langchain_community-0.2.9-py3-none-any.whl.metadata\n",
      "  Downloading langchain_community-0.2.9-py3-none-any.whl.metadata (2.5 kB)\n",
      "Requirement already satisfied: PyYAML>=5.3 in c:\\users\\dell\\anaconda3\\lib\\site-packages (from langchain_community) (6.0)\n",
      "Requirement already satisfied: SQLAlchemy<3,>=1.4 in c:\\users\\dell\\anaconda3\\lib\\site-packages (from langchain_community) (1.4.39)\n",
      "Requirement already satisfied: aiohttp<4.0.0,>=3.8.3 in c:\\users\\dell\\anaconda3\\lib\\site-packages (from langchain_community) (3.8.3)\n",
      "Collecting dataclasses-json<0.7,>=0.5.7 (from langchain_community)\n",
      "  Obtaining dependency information for dataclasses-json<0.7,>=0.5.7 from https://files.pythonhosted.org/packages/c3/be/d0d44e092656fe7a06b55e6103cbce807cdbdee17884a5367c68c9860853/dataclasses_json-0.6.7-py3-none-any.whl.metadata\n",
      "  Downloading dataclasses_json-0.6.7-py3-none-any.whl.metadata (25 kB)\n",
      "Collecting langchain<0.3.0,>=0.2.9 (from langchain_community)\n",
      "  Obtaining dependency information for langchain<0.3.0,>=0.2.9 from https://files.pythonhosted.org/packages/ff/67/ebe51e46975c07ec030f3d80d5b8be7313ebf6efdcede57f6c7be06be0b8/langchain-0.2.10-py3-none-any.whl.metadata\n",
      "  Downloading langchain-0.2.10-py3-none-any.whl.metadata (6.9 kB)\n",
      "Collecting langchain-core<0.3.0,>=0.2.22 (from langchain_community)\n",
      "  Obtaining dependency information for langchain-core<0.3.0,>=0.2.22 from https://files.pythonhosted.org/packages/73/dc/7b22993585146d638f8f0b42656f6f11f0fc2d6155b6912fafc069df7d5d/langchain_core-0.2.22-py3-none-any.whl.metadata\n",
      "  Downloading langchain_core-0.2.22-py3-none-any.whl.metadata (6.0 kB)\n",
      "Requirement already satisfied: langsmith<0.2.0,>=0.1.0 in c:\\users\\dell\\anaconda3\\lib\\site-packages (from langchain_community) (0.1.85)\n",
      "Requirement already satisfied: numpy<2,>=1 in c:\\users\\dell\\anaconda3\\lib\\site-packages (from langchain_community) (1.24.3)\n",
      "Requirement already satisfied: requests<3,>=2 in c:\\users\\dell\\anaconda3\\lib\\site-packages (from langchain_community) (2.31.0)\n",
      "Requirement already satisfied: tenacity!=8.4.0,<9.0.0,>=8.1.0 in c:\\users\\dell\\anaconda3\\lib\\site-packages (from langchain_community) (8.2.2)\n",
      "Requirement already satisfied: attrs>=17.3.0 in c:\\users\\dell\\anaconda3\\lib\\site-packages (from aiohttp<4.0.0,>=3.8.3->langchain_community) (22.1.0)\n",
      "Requirement already satisfied: charset-normalizer<3.0,>=2.0 in c:\\users\\dell\\anaconda3\\lib\\site-packages (from aiohttp<4.0.0,>=3.8.3->langchain_community) (2.0.4)\n",
      "Requirement already satisfied: multidict<7.0,>=4.5 in c:\\users\\dell\\anaconda3\\lib\\site-packages (from aiohttp<4.0.0,>=3.8.3->langchain_community) (6.0.2)\n",
      "Requirement already satisfied: async-timeout<5.0,>=4.0.0a3 in c:\\users\\dell\\anaconda3\\lib\\site-packages (from aiohttp<4.0.0,>=3.8.3->langchain_community) (4.0.2)\n",
      "Requirement already satisfied: yarl<2.0,>=1.0 in c:\\users\\dell\\anaconda3\\lib\\site-packages (from aiohttp<4.0.0,>=3.8.3->langchain_community) (1.8.1)\n",
      "Requirement already satisfied: frozenlist>=1.1.1 in c:\\users\\dell\\anaconda3\\lib\\site-packages (from aiohttp<4.0.0,>=3.8.3->langchain_community) (1.3.3)\n",
      "Requirement already satisfied: aiosignal>=1.1.2 in c:\\users\\dell\\anaconda3\\lib\\site-packages (from aiohttp<4.0.0,>=3.8.3->langchain_community) (1.2.0)\n",
      "Collecting marshmallow<4.0.0,>=3.18.0 (from dataclasses-json<0.7,>=0.5.7->langchain_community)\n",
      "  Obtaining dependency information for marshmallow<4.0.0,>=3.18.0 from https://files.pythonhosted.org/packages/96/d7/f318261e6ccbba86bdf626e07cd850981508fdaec52cfcdc4ac1030327ab/marshmallow-3.21.3-py3-none-any.whl.metadata\n",
      "  Downloading marshmallow-3.21.3-py3-none-any.whl.metadata (7.1 kB)\n",
      "Collecting typing-inspect<1,>=0.4.0 (from dataclasses-json<0.7,>=0.5.7->langchain_community)\n",
      "  Obtaining dependency information for typing-inspect<1,>=0.4.0 from https://files.pythonhosted.org/packages/65/f3/107a22063bf27bdccf2024833d3445f4eea42b2e598abfbd46f6a63b6cb0/typing_inspect-0.9.0-py3-none-any.whl.metadata\n",
      "  Downloading typing_inspect-0.9.0-py3-none-any.whl.metadata (1.5 kB)\n",
      "Requirement already satisfied: langchain-text-splitters<0.3.0,>=0.2.0 in c:\\users\\dell\\anaconda3\\lib\\site-packages (from langchain<0.3.0,>=0.2.9->langchain_community) (0.2.2)\n",
      "Requirement already satisfied: pydantic<3,>=1 in c:\\users\\dell\\anaconda3\\lib\\site-packages (from langchain<0.3.0,>=0.2.9->langchain_community) (1.10.8)\n",
      "Requirement already satisfied: jsonpatch<2.0,>=1.33 in c:\\users\\dell\\anaconda3\\lib\\site-packages (from langchain-core<0.3.0,>=0.2.22->langchain_community) (1.33)\n",
      "Requirement already satisfied: packaging<25,>=23.2 in c:\\users\\dell\\anaconda3\\lib\\site-packages (from langchain-core<0.3.0,>=0.2.22->langchain_community) (24.1)\n",
      "Requirement already satisfied: orjson<4.0.0,>=3.9.14 in c:\\users\\dell\\anaconda3\\lib\\site-packages (from langsmith<0.2.0,>=0.1.0->langchain_community) (3.10.4)\n",
      "Requirement already satisfied: idna<4,>=2.5 in c:\\users\\dell\\anaconda3\\lib\\site-packages (from requests<3,>=2->langchain_community) (3.4)\n",
      "Requirement already satisfied: urllib3<3,>=1.21.1 in c:\\users\\dell\\anaconda3\\lib\\site-packages (from requests<3,>=2->langchain_community) (1.26.16)\n",
      "Requirement already satisfied: certifi>=2017.4.17 in c:\\users\\dell\\anaconda3\\lib\\site-packages (from requests<3,>=2->langchain_community) (2024.6.2)\n",
      "Requirement already satisfied: greenlet!=0.4.17 in c:\\users\\dell\\anaconda3\\lib\\site-packages (from SQLAlchemy<3,>=1.4->langchain_community) (2.0.1)\n",
      "Requirement already satisfied: jsonpointer>=1.9 in c:\\users\\dell\\anaconda3\\lib\\site-packages (from jsonpatch<2.0,>=1.33->langchain-core<0.3.0,>=0.2.22->langchain_community) (2.1)\n",
      "Requirement already satisfied: typing-extensions>=4.2.0 in c:\\users\\dell\\anaconda3\\lib\\site-packages (from pydantic<3,>=1->langchain<0.3.0,>=0.2.9->langchain_community) (4.12.2)\n",
      "Requirement already satisfied: mypy-extensions>=0.3.0 in c:\\users\\dell\\anaconda3\\lib\\site-packages (from typing-inspect<1,>=0.4.0->dataclasses-json<0.7,>=0.5.7->langchain_community) (0.4.3)\n",
      "Downloading langchain_community-0.2.9-py3-none-any.whl (2.3 MB)\n",
      "   ---------------------------------------- 0.0/2.3 MB ? eta -:--:--\n",
      "   - -------------------------------------- 0.1/2.3 MB 3.3 MB/s eta 0:00:01\n",
      "   ----- ---------------------------------- 0.3/2.3 MB 4.1 MB/s eta 0:00:01\n",
      "   ----------- ---------------------------- 0.7/2.3 MB 5.3 MB/s eta 0:00:01\n",
      "   ----------------- ---------------------- 1.0/2.3 MB 5.7 MB/s eta 0:00:01\n",
      "   --------------------- ------------------ 1.2/2.3 MB 5.6 MB/s eta 0:00:01\n",
      "   ------------------------ --------------- 1.4/2.3 MB 5.3 MB/s eta 0:00:01\n",
      "   ---------------------------- ----------- 1.6/2.3 MB 5.1 MB/s eta 0:00:01\n",
      "   ----------------------------- ---------- 1.7/2.3 MB 5.0 MB/s eta 0:00:01\n",
      "   ------------------------------- -------- 1.8/2.3 MB 4.3 MB/s eta 0:00:01\n",
      "   ------------------------------- -------- 1.8/2.3 MB 4.3 MB/s eta 0:00:01\n",
      "   ----------------------------------- ---- 2.0/2.3 MB 4.3 MB/s eta 0:00:01\n",
      "   ---------------------------------------- 2.3/2.3 MB 4.1 MB/s eta 0:00:00\n",
      "Downloading dataclasses_json-0.6.7-py3-none-any.whl (28 kB)\n",
      "Downloading langchain-0.2.10-py3-none-any.whl (990 kB)\n",
      "   ---------------------------------------- 0.0/990.0 kB ? eta -:--:--\n",
      "   ----------- ---------------------------- 297.0/990.0 kB 6.1 MB/s eta 0:00:01\n",
      "   ------------------ --------------------- 450.6/990.0 kB 5.6 MB/s eta 0:00:01\n",
      "   ------------------ --------------------- 450.6/990.0 kB 5.6 MB/s eta 0:00:01\n",
      "   ------------------ --------------------- 450.6/990.0 kB 5.6 MB/s eta 0:00:01\n",
      "   ------------------------- -------------- 624.6/990.0 kB 2.6 MB/s eta 0:00:01\n",
      "   ----------------------------- ---------- 727.0/990.0 kB 2.9 MB/s eta 0:00:01\n",
      "   -------------------------------------- - 962.6/990.0 kB 2.9 MB/s eta 0:00:01\n",
      "   ---------------------------------------- 990.0/990.0 kB 2.8 MB/s eta 0:00:00\n",
      "Downloading langchain_core-0.2.22-py3-none-any.whl (373 kB)\n",
      "   ---------------------------------------- 0.0/373.5 kB ? eta -:--:--\n",
      "   ------------------ --------------------- 174.1/373.5 kB 5.1 MB/s eta 0:00:01\n",
      "   ---------------------------------------- 373.5/373.5 kB 4.7 MB/s eta 0:00:00\n",
      "Downloading marshmallow-3.21.3-py3-none-any.whl (49 kB)\n",
      "   ---------------------------------------- 0.0/49.2 kB ? eta -:--:--\n",
      "   ---------------------------------------- 49.2/49.2 kB 2.4 MB/s eta 0:00:00\n",
      "Downloading typing_inspect-0.9.0-py3-none-any.whl (8.8 kB)\n",
      "Installing collected packages: typing-inspect, marshmallow, dataclasses-json, langchain-core, langchain, langchain_community\n",
      "  Attempting uninstall: langchain-core\n",
      "    Found existing installation: langchain-core 0.2.16\n",
      "    Uninstalling langchain-core-0.2.16:\n",
      "      Successfully uninstalled langchain-core-0.2.16\n",
      "  Attempting uninstall: langchain\n",
      "    Found existing installation: langchain 0.2.7\n",
      "    Uninstalling langchain-0.2.7:\n",
      "      Successfully uninstalled langchain-0.2.7\n",
      "Successfully installed dataclasses-json-0.6.7 langchain-0.2.10 langchain-core-0.2.22 langchain_community-0.2.9 marshmallow-3.21.3 typing-inspect-0.9.0\n"
     ]
    }
   ],
   "source": [
    "!pip install langchain_community"
   ]
  },
  {
   "cell_type": "code",
   "execution_count": 24,
   "id": "21e957f2",
   "metadata": {},
   "outputs": [
    {
     "name": "stdout",
     "output_type": "stream",
     "text": [
      "Requirement already satisfied: pyzmq in c:\\users\\dell\\anaconda3\\lib\\site-packages (23.2.0)\n"
     ]
    }
   ],
   "source": [
    "!pip install pyzmq"
   ]
  },
  {
   "cell_type": "code",
   "execution_count": 27,
   "id": "57e3c96b",
   "metadata": {},
   "outputs": [],
   "source": [
    "import zmq\n",
    "#zmq.select_backend('cffi')\n",
    "\n",
    "from ipykernel import kernelapp as app"
   ]
  },
  {
   "cell_type": "code",
   "execution_count": 8,
   "id": "e979a526",
   "metadata": {},
   "outputs": [],
   "source": [
    "from langchain.llms import CTransformers"
   ]
  },
  {
   "cell_type": "code",
   "execution_count": 17,
   "id": "5e0faa42",
   "metadata": {},
   "outputs": [],
   "source": [
    "## Function to get Response from LLama 3 model\n",
    "def getLLamaresponse(input_text, no_words, blog_style):\n",
    "    \n",
    "    ## LLama 3 model\n",
    "    llm = CTransformer(\"llama-2-7b.ggmlv3.q8_0.bin\",\n",
    "                      model_type='llama',\n",
    "                      config={'max_new_tokens':256,\n",
    "                             'temprature':0.01})\n",
    "    ## Prompt Template\n",
    "    template = '''\n",
    "        Write a Blog for {blog_style} job profile for a topic {input_text} within {no_words} words.\n",
    "    '''\n",
    "    \n",
    "    prompt = PromptTemplate(input_variables = ['style','text','n_words'],\n",
    "                           template=template)\n",
    "    \n",
    "    ## Generate the response from llama 2 model\n",
    "    response = llm(propt.format(style=blog_style, input_text = text, n_words = no_words))\n",
    "    print(response)\n",
    "    \n",
    "    return response\n",
    "    "
   ]
  },
  {
   "cell_type": "code",
   "execution_count": 12,
   "id": "c8da5f2a",
   "metadata": {},
   "outputs": [],
   "source": [
    "st.set_page_config(page_title = \"Generate Blogs\",\n",
    "                  layout='centered',\n",
    "                  initial_sidebar_state = 'collapsed')"
   ]
  },
  {
   "cell_type": "code",
   "execution_count": 10,
   "id": "d58e7e54",
   "metadata": {},
   "outputs": [
    {
     "name": "stderr",
     "output_type": "stream",
     "text": [
      "2024-07-23 17:55:05.885 \n",
      "  \u001b[33m\u001b[1mWarning:\u001b[0m to view this Streamlit app on a browser, run it with the following\n",
      "  command:\n",
      "\n",
      "    streamlit run C:\\Users\\DELL\\anaconda3\\Lib\\site-packages\\ipykernel_launcher.py [ARGUMENTS]\n"
     ]
    },
    {
     "data": {
      "text/plain": [
       "DeltaGenerator()"
      ]
     },
     "execution_count": 10,
     "metadata": {},
     "output_type": "execute_result"
    }
   ],
   "source": [
    "st.header(\"Generate Blogs\")"
   ]
  },
  {
   "cell_type": "code",
   "execution_count": 15,
   "id": "77d2dc82",
   "metadata": {},
   "outputs": [],
   "source": [
    "input_text = st.text_input(\"Enter the Blog Topic\")\n",
    "## creating two more columns for additional 2 fields\n",
    "\n",
    "col1, col2 = st.columns([5,5])\n",
    "\n",
    "with col1:\n",
    "    no_words = st.text_input(\"No. of words\")\n",
    "with col2:\n",
    "    blog_style = st.selectbox(\"Writing the Blog for: \",('Researcher','Data Scientist','Common People'),index = 0)"
   ]
  },
  {
   "cell_type": "code",
   "execution_count": 16,
   "id": "276064b7",
   "metadata": {},
   "outputs": [],
   "source": [
    "submit = st.button(\"Generate\")"
   ]
  },
  {
   "cell_type": "code",
   "execution_count": 18,
   "id": "74761d73",
   "metadata": {},
   "outputs": [],
   "source": [
    "#Final response \n",
    "if submit:\n",
    "    st.write(getLLamaresponse(input_text, no_words, blog_style))"
   ]
  },
  {
   "cell_type": "code",
   "execution_count": null,
   "id": "6ac584fc",
   "metadata": {},
   "outputs": [],
   "source": []
  }
 ],
 "metadata": {
  "kernelspec": {
   "display_name": "Python 3 (ipykernel)",
   "language": "python",
   "name": "python3"
  },
  "language_info": {
   "codemirror_mode": {
    "name": "ipython",
    "version": 3
   },
   "file_extension": ".py",
   "mimetype": "text/x-python",
   "name": "python",
   "nbconvert_exporter": "python",
   "pygments_lexer": "ipython3",
   "version": "3.11.4"
  }
 },
 "nbformat": 4,
 "nbformat_minor": 5
}
