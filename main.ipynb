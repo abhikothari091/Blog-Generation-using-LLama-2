{
 "cells": [
  {
   "cell_type": "code",
   "execution_count": 3,
   "id": "39ea3475",
   "metadata": {},
   "outputs": [],
   "source": [
    "import streamlit as st\n",
    "from langchain.prompts import PromptTemplate\n",
    "from langchain.llms import CTransformers\n",
    "\n",
    "# Function to get Response from LLama 3 model\n",
    "def getLLamaresponse(input_text, no_words, blog_style):\n",
    "    # LLama 3 model\n",
    "    llm = CTransformers(\"llama-2-7b.ggmlv3.q8_0.bin\",\n",
    "                        model_type='llama',\n",
    "                        config={'max_new_tokens': 256,\n",
    "                                'temperature': 0.01})\n",
    "    \n",
    "    # Prompt Template\n",
    "    template = '''\n",
    "        Write a Blog for {blog_style} job profile for a topic {input_text} within {no_words} words.\n",
    "    '''\n",
    "    \n",
    "    prompt = PromptTemplate(input_variables=['blog_style', 'input_text', 'no_words'],\n",
    "                            template=template)\n",
    "    \n",
    "    # Generate the response from llama 2 model\n",
    "    response = llm(prompt.format(blog_style=blog_style, input_text=input_text, no_words=no_words))\n",
    "    print(response)\n",
    "    \n",
    "    return response\n",
    "\n",
    "st.set_page_config(page_title=\"Generate Blogs\",\n",
    "                   layout='centered',\n",
    "                   initial_sidebar_state='collapsed')\n",
    "\n",
    "st.header(\"Generate Blogs\")\n",
    "\n",
    "input_text = st.text_input(\"Enter the Blog Topic\")\n",
    "\n",
    "# Creating two more columns for additional fields\n",
    "col1, col2 = st.columns([5, 5])\n",
    "\n",
    "with col1:\n",
    "    no_words = st.text_input(\"No. of words\")\n",
    "with col2:\n",
    "    blog_style = st.selectbox(\"Writing the Blog for:\", ('Researcher', 'Data Scientist', 'Common People'), index=0)\n",
    "\n",
    "submit = st.button(\"Generate\")\n",
    "\n",
    "# Final response\n",
    "if submit:\n",
    "    st.write(getLLamaresponse(input_text, no_words, blog_style))\n"
   ]
  },
  {
   "cell_type": "code",
   "execution_count": null,
   "id": "4b89db8f",
   "metadata": {},
   "outputs": [],
   "source": []
  }
 ],
 "metadata": {
  "kernelspec": {
   "display_name": "Python 3 (ipykernel)",
   "language": "python",
   "name": "python3"
  },
  "language_info": {
   "codemirror_mode": {
    "name": "ipython",
    "version": 3
   },
   "file_extension": ".py",
   "mimetype": "text/x-python",
   "name": "python",
   "nbconvert_exporter": "python",
   "pygments_lexer": "ipython3",
   "version": "3.11.4"
  }
 },
 "nbformat": 4,
 "nbformat_minor": 5
}
